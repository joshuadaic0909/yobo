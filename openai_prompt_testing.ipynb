{
 "cells": [
  {
   "cell_type": "code",
   "execution_count": 1,
   "metadata": {},
   "outputs": [
    {
     "name": "stdout",
     "output_type": "stream",
     "text": [
      "Requirement already satisfied: openai in c:\\users\\shrey\\anaconda3\\lib\\site-packages (0.27.8)\n",
      "Requirement already satisfied: aiohttp in c:\\users\\shrey\\anaconda3\\lib\\site-packages (from openai) (3.8.4)\n",
      "Requirement already satisfied: requests>=2.20 in c:\\users\\shrey\\anaconda3\\lib\\site-packages (from openai) (2.22.0)\n",
      "Requirement already satisfied: typing-extensions; python_version < \"3.8\" in c:\\users\\shrey\\anaconda3\\lib\\site-packages (from openai) (4.4.0)\n",
      "Requirement already satisfied: tqdm in c:\\users\\shrey\\anaconda3\\lib\\site-packages (from openai) (4.36.1)\n",
      "Requirement already satisfied: charset-normalizer<4.0,>=2.0 in c:\\users\\shrey\\anaconda3\\lib\\site-packages (from aiohttp->openai) (3.2.0)\n",
      "Requirement already satisfied: multidict<7.0,>=4.5 in c:\\users\\shrey\\anaconda3\\lib\\site-packages (from aiohttp->openai) (6.0.4)\n",
      "Requirement already satisfied: aiosignal>=1.1.2 in c:\\users\\shrey\\anaconda3\\lib\\site-packages (from aiohttp->openai) (1.3.1)\n",
      "Requirement already satisfied: async-timeout<5.0,>=4.0.0a3 in c:\\users\\shrey\\anaconda3\\lib\\site-packages (from aiohttp->openai) (4.0.2)\n",
      "Requirement already satisfied: asynctest==0.13.0; python_version < \"3.8\" in c:\\users\\shrey\\anaconda3\\lib\\site-packages (from aiohttp->openai) (0.13.0)\n",
      "Requirement already satisfied: yarl<2.0,>=1.0 in c:\\users\\shrey\\anaconda3\\lib\\site-packages (from aiohttp->openai) (1.9.2)\n",
      "Requirement already satisfied: frozenlist>=1.1.1 in c:\\users\\shrey\\anaconda3\\lib\\site-packages (from aiohttp->openai) (1.3.3)\n",
      "Requirement already satisfied: attrs>=17.3.0 in c:\\users\\shrey\\anaconda3\\lib\\site-packages (from aiohttp->openai) (19.2.0)\n",
      "Requirement already satisfied: certifi>=2017.4.17 in c:\\users\\shrey\\anaconda3\\lib\\site-packages (from requests>=2.20->openai) (2019.9.11)\n",
      "Requirement already satisfied: urllib3!=1.25.0,!=1.25.1,<1.26,>=1.21.1 in c:\\users\\shrey\\anaconda3\\lib\\site-packages (from requests>=2.20->openai) (1.24.2)\n",
      "Requirement already satisfied: idna<2.9,>=2.5 in c:\\users\\shrey\\anaconda3\\lib\\site-packages (from requests>=2.20->openai) (2.8)\n",
      "Requirement already satisfied: chardet<3.1.0,>=3.0.2 in c:\\users\\shrey\\anaconda3\\lib\\site-packages (from requests>=2.20->openai) (3.0.4)\n"
     ]
    }
   ],
   "source": [
    "!pip install openai"
   ]
  },
  {
   "cell_type": "code",
   "execution_count": 21,
   "metadata": {},
   "outputs": [],
   "source": [
    "import os\n",
    "import openai\n",
    "\n",
    "\n",
    "class ChatApp:\n",
    "    def __init__(self):\n",
    "        # Setting the API key to use the OpenAI API\n",
    "        with open(\"./scale_ai_api_key.txt\", \"r\") as f:\n",
    "            api_key = f.readline()\n",
    "        openai.api_key = api_key\n",
    "        self.messages = [\n",
    "            {\"role\": \"system\", \"content\": \"You are a Software Engineer.\"},\n",
    "        ]\n",
    "\n",
    "    def chat(self, message):\n",
    "        self.messages.append({\"role\": \"user\", \"content\": message})\n",
    "        response = openai.ChatCompletion.create(\n",
    "            model=\"gpt-3.5-turbo\",\n",
    "            messages=self.messages\n",
    "        )\n",
    "        self.messages.append({\"role\": \"assistant\", \"content\": response[\"choices\"][0][\"message\"].content})\n",
    "        return response[\"choices\"][0][\"message\"]\n",
    "\n",
    "uml = \"\"\"@startuml\n",
    "\n",
    "title Meeting Transcript Summarizer System\n",
    "\n",
    "actor User\n",
    "\n",
    "package \"Meeting Transcript Summarizer\" {\n",
    "  [Summarization API] as API\n",
    "  database \"Training Data\" as DB\n",
    "  [Preprocessing] as PREP\n",
    "  [Model Training] as TRAIN\n",
    "  [Summarization] as SUM\n",
    "  [Keyword Extraction] as KEY\n",
    "}\n",
    "\n",
    "User --> API : Upload meeting transcripts\n",
    "API --> PREP : Preprocess transcripts\n",
    "PREP --> DB : Store preprocessed data\n",
    "DB --> TRAIN : Provide data for model training\n",
    "TRAIN --> API : Provide trained model\n",
    "API --> SUM : Feed meeting transcripts for summarization\n",
    "SUM --> API : Return summarized meeting\n",
    "API --> KEY : Extract keywords\n",
    "KEY --> API : Return extracted keywords\n",
    "API --> User : Return summary and keywords\n",
    "\n",
    "@enduml\n",
    "\"\"\"\n",
    "\n",
    "# with open(\"./scale_ai_api_key.txt\", \"r\") as f:\n",
    "#     api_key = f.readline()\n",
    "\n",
    "\n",
    "# openai.api_key = api_key\n",
    "\n",
    "# response = openai.Completion.create(\n",
    "#     model=\"gpt-3.5-turbo\",\n",
    "#     prompt=f\"write multiple python scripts as a bulleted list that work together to implement the following UML: {uml}\"\n",
    "# )\n",
    "\n",
    "# messages = [{\"role\": \"user\", \"content\": f\"generate multiple python files that work together to implement the following UML: {uml}.\"},\n",
    "#            {\"role\": \"user\", \"content\": \"Provide a full directory structure for the files generated above. Mark directories with a slash and files with a file extension.\"}]\n",
    "\n",
    "# response = openai.ChatCompletion.create(\n",
    "#   model=\"gpt-3.5-turbo\",\n",
    "#   messages=messages,\n",
    "# )\n",
    "# response_message = response[\"choices\"][0][\"message\"]\n",
    "# print(response_message['content'])\n",
    "# a = str(response_message).split(\"```python\")\n",
    "# print(a)\n",
    "\n",
    "\n",
    "c = ChatApp()\n",
    "\n",
    "m1 = f\"generate multiple python files that work together to implement the following UML: {uml}.\"\n",
    "m2 = \"Provide a full directory structure for the files generated above. Mark directories with a slash and files with a file extension. Provide only the directory and files. Do not explain. Do not give anything else.\""
   ]
  },
  {
   "cell_type": "code",
   "execution_count": 22,
   "metadata": {},
   "outputs": [
    {
     "data": {
      "text/plain": [
       "<OpenAIObject at 0x1f7caf42f48> JSON: {\n",
       "  \"role\": \"assistant\",\n",
       "  \"content\": \"To implement the above UML diagram, you can create multiple Python files that represent each component in the diagram. Below are some sample Python files that you can create:\\n\\n1. `main.py` (Entry point of the system)\\n```python\\nfrom meeting_transcript_summarizer import SummarizationAPI\\nfrom meeting_transcript_summarizer import Preprocessing\\nfrom meeting_transcript_summarizer import ModelTraining\\nfrom meeting_transcript_summarizer import Summarization\\nfrom meeting_transcript_summarizer import KeywordExtraction\\n\\nif __name__ == '__main__':\\n    api = SummarizationAPI()\\n    api.start()\\n```\\n\\n2. `meeting_transcript_summarizer.py` (Package file)\\n```python\\nfrom .preprocessing import Preprocessing\\nfrom .model_training import ModelTraining\\nfrom .summarization import Summarization\\nfrom .keyword_extraction import KeywordExtraction\\n\\nclass SummarizationAPI:\\n    def __init__(self):\\n        self.preprocessing = Preprocessing()\\n        self.model_training = ModelTraining()\\n        self.summarization = Summarization()\\n        self.keyword_extraction = KeywordExtraction()\\n\\n    def start(self):\\n        # Upload meeting transcripts and call relevant functions\\n        pass\\n```\\n\\n3. `preprocessing.py` (Preprocessing component implementation)\\n```python\\nclass Preprocessing:\\n    def preprocess_transcripts(self, transcripts):\\n        # Preprocess the transcripts\\n        return preprocessed_data\\n\\n    def store_preprocessed_data(self, preprocessed_data):\\n        # Store the preprocessed data in the database\\n        pass\\n```\\n\\n4. `model_training.py` (Model Training component implementation)\\n```python\\nclass ModelTraining:\\n    def get_training_data(self):\\n        # Retrieve training data from the database\\n        return training_data\\n\\n    def train_model(self, training_data):\\n        # Train the model using the training data\\n        trained_model = ...\\n\\n        return trained_model\\n```\\n\\n5. `summarization.py` (Summarization component implementation)\\n```python\\nclass Summarization:\\n    def summarize_transcripts(self, transcripts, trained_model):\\n        # Use the trained model to summarize the transcripts\\n        return summary\\n```\\n\\n6. `keyword_extraction.py` (Keyword Extraction component implementation)\\n```python\\nclass KeywordExtraction:\\n    def extract_keywords(self, transcripts):\\n        # Extract keywords from the transcripts\\n        return keywords\\n```\\n\\nPlease note that the implementation details of each component (classes and methods) are not provided, and you will need to implement them according to your requirements and design decisions.\"\n",
       "}"
      ]
     },
     "execution_count": 22,
     "metadata": {},
     "output_type": "execute_result"
    }
   ],
   "source": [
    "c.chat(m1)"
   ]
  },
  {
   "cell_type": "code",
   "execution_count": 23,
   "metadata": {},
   "outputs": [
    {
     "data": {
      "text/plain": [
       "<OpenAIObject at 0x1f7cce89fa8> JSON: {\n",
       "  \"role\": \"assistant\",\n",
       "  \"content\": \"meeting_transcript_summarizer/\\n- main.py\\n- meeting_transcript_summarizer/\\n  - __init__.py\\n  - preprocessing.py\\n  - model_training.py\\n  - summarization.py\\n  - keyword_extraction.py\"\n",
       "}"
      ]
     },
     "execution_count": 23,
     "metadata": {},
     "output_type": "execute_result"
    }
   ],
   "source": [
    "c.chat(m2)"
   ]
  },
  {
   "cell_type": "code",
   "execution_count": 26,
   "metadata": {},
   "outputs": [],
   "source": [
    "for i in c.messages:\n",
    "    if i['role'] == 'assistant':\n",
    "        response_message = i\n",
    "        break\n",
    "        print(i['content'])"
   ]
  },
  {
   "cell_type": "code",
   "execution_count": 27,
   "metadata": {},
   "outputs": [],
   "source": [
    "# import re\n",
    "# b = re.split('```python |``` ', response_message[\"content\"])\n",
    "b=response_message[\"content\"].replace('```python', '```').split('```')\n",
    "\n",
    "for i in range(len(b)):\n",
    "    if i % 2 == 1 :\n",
    "        with open(\"test_script{}.py\".format(i), \"w\") as f:\n",
    "            f.writelines(b[i])"
   ]
  },
  {
   "cell_type": "code",
   "execution_count": null,
   "metadata": {},
   "outputs": [],
   "source": [
    "b[0]"
   ]
  },
  {
   "cell_type": "code",
   "execution_count": 36,
   "metadata": {},
   "outputs": [
    {
     "name": "stdout",
     "output_type": "stream",
     "text": [
      "- [summarization.py](./Meeting_Transcript_Summarizer/summarization.py)\n",
      "- [preprocessing.py](./Meeting_Transcript_Summarizer/preprocessing.py)\n",
      "- [model_training.py](./Meeting_Transcript_Summarizer/model_training.py)\n",
      "- [keyword_extraction.py](./Meeting_Transcript_Summarizer/keyword_extraction.py)\n"
     ]
    }
   ],
   "source": [
    "c2 = ChatApp()\n",
    "r2 = c2.chat(f\"Provide a full file directoy containing python files that implement the following UML: {uml}. Only provide the file directory. Do not explain. Do not give anything else.\")\n",
    "print(r2[\"content\"])"
   ]
  },
  {
   "cell_type": "code",
   "execution_count": null,
   "metadata": {},
   "outputs": [],
   "source": []
  }
 ],
 "metadata": {
  "kernelspec": {
   "display_name": "Python 3",
   "language": "python",
   "name": "python3"
  },
  "language_info": {
   "codemirror_mode": {
    "name": "ipython",
    "version": 3
   },
   "file_extension": ".py",
   "mimetype": "text/x-python",
   "name": "python",
   "nbconvert_exporter": "python",
   "pygments_lexer": "ipython3",
   "version": "3.7.4"
  }
 },
 "nbformat": 4,
 "nbformat_minor": 2
}
